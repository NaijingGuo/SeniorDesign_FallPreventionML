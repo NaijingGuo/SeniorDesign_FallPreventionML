{
  "nbformat": 4,
  "nbformat_minor": 0,
  "metadata": {
    "colab": {
      "name": "Keras_Naijing.ipynb",
      "provenance": [],
      "authorship_tag": "ABX9TyO4vRH0Pzrqkh/WnEFll1u2",
      "include_colab_link": true
    },
    "kernelspec": {
      "name": "python3",
      "display_name": "Python 3"
    },
    "language_info": {
      "name": "python"
    }
  },
  "cells": [
    {
      "cell_type": "markdown",
      "metadata": {
        "id": "view-in-github",
        "colab_type": "text"
      },
      "source": [
        "<a href=\"https://colab.research.google.com/github/NaijingGuo/SeniorDesign_FallPreventionML/blob/main/Keras.ipynb\" target=\"_parent\"><img src=\"https://colab.research.google.com/assets/colab-badge.svg\" alt=\"Open In Colab\"/></a>"
      ]
    },
    {
      "cell_type": "markdown",
      "source": [
        "Load Data"
      ],
      "metadata": {
        "id": "fcf5tiLzPy-o"
      }
    },
    {
      "cell_type": "code",
      "source": [
        "from google.colab import drive\n",
        "drive.mount('/content/drive')\n",
        "\n",
        "import pandas as pd\n",
        "import tensorflow as tf\n",
        "import numpy as np\n",
        "\n",
        "df = pd.read_csv(\"/content/drive/MyDrive/\"+\"data_df\" + \".csv\", skiprows=[0])\n",
        "dataset = df.values\n",
        "X = dataset[:,1:61].astype(float)\n",
        "Y = dataset[:,61]\n",
        "X = (X+90)/180\n",
        "# randomize\n",
        "num_inputs = len(X)\n",
        "randomize = np.arange(num_inputs)\n",
        "np.random.shuffle(randomize)\n",
        "X = X[randomize]\n",
        "Y = Y[randomize]\n",
        "\n",
        "split = int(0.9* num_inputs)\n",
        "X_train, X_test = np.split(X, [split])\n",
        "Y_train, Y_test = np.split(Y, [split])"
      ],
      "metadata": {
        "colab": {
          "base_uri": "https://localhost:8080/"
        },
        "id": "oNghwIWmP1nG",
        "outputId": "6216398b-7ab3-4dd0-b9bc-a776a4ca55b2"
      },
      "execution_count": 1,
      "outputs": [
        {
          "output_type": "stream",
          "name": "stdout",
          "text": [
            "Mounted at /content/drive\n"
          ]
        }
      ]
    },
    {
      "cell_type": "markdown",
      "source": [
        "MLP"
      ],
      "metadata": {
        "id": "3Yzc94EmSe6f"
      }
    },
    {
      "cell_type": "code",
      "source": [
        "model = tf.keras.Sequential()\n",
        "model.add(tf.keras.layers.Dense(100, activation='relu', input_dim = 60)) # relu is used for performance\n",
        "model.add(tf.keras.layers.Dense(50, activation='relu'))\n",
        "model.add(tf.keras.layers.Dense(1, activation='sigmoid')) # we either have fall or not\n",
        "model.compile(optimizer='Adam', loss='binary_crossentropy', metrics=['accuracy'])\n",
        "\n",
        "history = model.fit(X_train, Y_train, epochs=100)"
      ],
      "metadata": {
        "colab": {
          "base_uri": "https://localhost:8080/"
        },
        "id": "bteLztGeSgpc",
        "outputId": "4de14c68-7a0d-4a11-d86a-9e994f59e800"
      },
      "execution_count": 4,
      "outputs": [
        {
          "output_type": "stream",
          "name": "stdout",
          "text": [
            "Epoch 1/100\n",
            "18/18 [==============================] - 1s 4ms/step - loss: 0.6163 - accuracy: 0.7983\n",
            "Epoch 2/100\n",
            "18/18 [==============================] - 0s 7ms/step - loss: 0.5934 - accuracy: 0.8000\n",
            "Epoch 3/100\n",
            "18/18 [==============================] - 0s 6ms/step - loss: 0.5764 - accuracy: 0.8000\n",
            "Epoch 4/100\n",
            "18/18 [==============================] - 0s 5ms/step - loss: 0.5654 - accuracy: 0.8000\n",
            "Epoch 5/100\n",
            "18/18 [==============================] - 0s 3ms/step - loss: 0.5509 - accuracy: 0.8000\n",
            "Epoch 6/100\n",
            "18/18 [==============================] - 0s 6ms/step - loss: 0.5262 - accuracy: 0.8000\n",
            "Epoch 7/100\n",
            "18/18 [==============================] - 0s 6ms/step - loss: 0.5159 - accuracy: 0.8035\n",
            "Epoch 8/100\n",
            "18/18 [==============================] - 0s 4ms/step - loss: 0.4989 - accuracy: 0.8070\n",
            "Epoch 9/100\n",
            "18/18 [==============================] - 0s 3ms/step - loss: 0.4922 - accuracy: 0.8330\n",
            "Epoch 10/100\n",
            "18/18 [==============================] - 0s 5ms/step - loss: 0.4591 - accuracy: 0.8157\n",
            "Epoch 11/100\n",
            "18/18 [==============================] - 0s 4ms/step - loss: 0.4428 - accuracy: 0.8243\n",
            "Epoch 12/100\n",
            "18/18 [==============================] - 0s 5ms/step - loss: 0.3967 - accuracy: 0.8348\n",
            "Epoch 13/100\n",
            "18/18 [==============================] - 0s 4ms/step - loss: 0.3846 - accuracy: 0.8383\n",
            "Epoch 14/100\n",
            "18/18 [==============================] - 0s 7ms/step - loss: 0.3517 - accuracy: 0.8557\n",
            "Epoch 15/100\n",
            "18/18 [==============================] - 0s 5ms/step - loss: 0.3340 - accuracy: 0.8678\n",
            "Epoch 16/100\n",
            "18/18 [==============================] - 0s 3ms/step - loss: 0.3140 - accuracy: 0.8574\n",
            "Epoch 17/100\n",
            "18/18 [==============================] - 0s 3ms/step - loss: 0.3004 - accuracy: 0.8696\n",
            "Epoch 18/100\n",
            "18/18 [==============================] - 0s 3ms/step - loss: 0.3112 - accuracy: 0.8626\n",
            "Epoch 19/100\n",
            "18/18 [==============================] - 0s 6ms/step - loss: 0.2878 - accuracy: 0.8765\n",
            "Epoch 20/100\n",
            "18/18 [==============================] - 0s 6ms/step - loss: 0.3251 - accuracy: 0.8522\n",
            "Epoch 21/100\n",
            "18/18 [==============================] - 0s 8ms/step - loss: 0.2955 - accuracy: 0.8730\n",
            "Epoch 22/100\n",
            "18/18 [==============================] - 0s 5ms/step - loss: 0.2798 - accuracy: 0.8783\n",
            "Epoch 23/100\n",
            "18/18 [==============================] - 0s 5ms/step - loss: 0.2871 - accuracy: 0.8591\n",
            "Epoch 24/100\n",
            "18/18 [==============================] - 0s 5ms/step - loss: 0.2824 - accuracy: 0.8817\n",
            "Epoch 25/100\n",
            "18/18 [==============================] - 0s 3ms/step - loss: 0.3003 - accuracy: 0.8609\n",
            "Epoch 26/100\n",
            "18/18 [==============================] - 0s 3ms/step - loss: 0.2820 - accuracy: 0.8765\n",
            "Epoch 27/100\n",
            "18/18 [==============================] - 0s 5ms/step - loss: 0.2841 - accuracy: 0.8800\n",
            "Epoch 28/100\n",
            "18/18 [==============================] - 0s 3ms/step - loss: 0.2987 - accuracy: 0.8730\n",
            "Epoch 29/100\n",
            "18/18 [==============================] - 0s 5ms/step - loss: 0.2818 - accuracy: 0.8765\n",
            "Epoch 30/100\n",
            "18/18 [==============================] - 0s 4ms/step - loss: 0.2879 - accuracy: 0.8713\n",
            "Epoch 31/100\n",
            "18/18 [==============================] - 0s 4ms/step - loss: 0.2855 - accuracy: 0.8678\n",
            "Epoch 32/100\n",
            "18/18 [==============================] - 0s 5ms/step - loss: 0.2818 - accuracy: 0.8678\n",
            "Epoch 33/100\n",
            "18/18 [==============================] - 0s 6ms/step - loss: 0.2815 - accuracy: 0.8783\n",
            "Epoch 34/100\n",
            "18/18 [==============================] - 0s 4ms/step - loss: 0.2752 - accuracy: 0.8748\n",
            "Epoch 35/100\n",
            "18/18 [==============================] - 0s 5ms/step - loss: 0.2939 - accuracy: 0.8661\n",
            "Epoch 36/100\n",
            "18/18 [==============================] - 0s 7ms/step - loss: 0.2856 - accuracy: 0.8713\n",
            "Epoch 37/100\n",
            "18/18 [==============================] - 0s 6ms/step - loss: 0.2878 - accuracy: 0.8626\n",
            "Epoch 38/100\n",
            "18/18 [==============================] - 0s 8ms/step - loss: 0.2700 - accuracy: 0.8783\n",
            "Epoch 39/100\n",
            "18/18 [==============================] - 0s 8ms/step - loss: 0.2977 - accuracy: 0.8835\n",
            "Epoch 40/100\n",
            "18/18 [==============================] - 0s 8ms/step - loss: 0.2730 - accuracy: 0.8783\n",
            "Epoch 41/100\n",
            "18/18 [==============================] - 0s 7ms/step - loss: 0.2753 - accuracy: 0.8817\n",
            "Epoch 42/100\n",
            "18/18 [==============================] - 0s 6ms/step - loss: 0.2814 - accuracy: 0.8713\n",
            "Epoch 43/100\n",
            "18/18 [==============================] - 0s 5ms/step - loss: 0.2718 - accuracy: 0.8817\n",
            "Epoch 44/100\n",
            "18/18 [==============================] - 0s 5ms/step - loss: 0.2698 - accuracy: 0.8748\n",
            "Epoch 45/100\n",
            "18/18 [==============================] - 0s 2ms/step - loss: 0.2677 - accuracy: 0.8800\n",
            "Epoch 46/100\n",
            "18/18 [==============================] - 0s 2ms/step - loss: 0.2660 - accuracy: 0.8765\n",
            "Epoch 47/100\n",
            "18/18 [==============================] - 0s 3ms/step - loss: 0.2764 - accuracy: 0.8765\n",
            "Epoch 48/100\n",
            "18/18 [==============================] - 0s 2ms/step - loss: 0.2692 - accuracy: 0.8800\n",
            "Epoch 49/100\n",
            "18/18 [==============================] - 0s 3ms/step - loss: 0.2818 - accuracy: 0.8678\n",
            "Epoch 50/100\n",
            "18/18 [==============================] - 0s 2ms/step - loss: 0.2671 - accuracy: 0.8835\n",
            "Epoch 51/100\n",
            "18/18 [==============================] - 0s 2ms/step - loss: 0.2656 - accuracy: 0.8835\n",
            "Epoch 52/100\n",
            "18/18 [==============================] - 0s 2ms/step - loss: 0.2923 - accuracy: 0.8678\n",
            "Epoch 53/100\n",
            "18/18 [==============================] - 0s 2ms/step - loss: 0.2651 - accuracy: 0.8800\n",
            "Epoch 54/100\n",
            "18/18 [==============================] - 0s 3ms/step - loss: 0.2684 - accuracy: 0.8817\n",
            "Epoch 55/100\n",
            "18/18 [==============================] - 0s 2ms/step - loss: 0.2654 - accuracy: 0.8765\n",
            "Epoch 56/100\n",
            "18/18 [==============================] - 0s 2ms/step - loss: 0.2637 - accuracy: 0.8783\n",
            "Epoch 57/100\n",
            "18/18 [==============================] - 0s 2ms/step - loss: 0.2653 - accuracy: 0.8835\n",
            "Epoch 58/100\n",
            "18/18 [==============================] - 0s 2ms/step - loss: 0.2642 - accuracy: 0.8922\n",
            "Epoch 59/100\n",
            "18/18 [==============================] - 0s 2ms/step - loss: 0.2845 - accuracy: 0.8678\n",
            "Epoch 60/100\n",
            "18/18 [==============================] - 0s 2ms/step - loss: 0.2607 - accuracy: 0.8713\n",
            "Epoch 61/100\n",
            "18/18 [==============================] - 0s 2ms/step - loss: 0.2877 - accuracy: 0.8765\n",
            "Epoch 62/100\n",
            "18/18 [==============================] - 0s 2ms/step - loss: 0.2779 - accuracy: 0.8696\n",
            "Epoch 63/100\n",
            "18/18 [==============================] - 0s 2ms/step - loss: 0.2910 - accuracy: 0.8696\n",
            "Epoch 64/100\n",
            "18/18 [==============================] - 0s 2ms/step - loss: 0.2620 - accuracy: 0.8852\n",
            "Epoch 65/100\n",
            "18/18 [==============================] - 0s 2ms/step - loss: 0.2652 - accuracy: 0.8800\n",
            "Epoch 66/100\n",
            "18/18 [==============================] - 0s 2ms/step - loss: 0.2635 - accuracy: 0.8800\n",
            "Epoch 67/100\n",
            "18/18 [==============================] - 0s 2ms/step - loss: 0.2592 - accuracy: 0.8887\n",
            "Epoch 68/100\n",
            "18/18 [==============================] - 0s 3ms/step - loss: 0.2617 - accuracy: 0.8817\n",
            "Epoch 69/100\n",
            "18/18 [==============================] - 0s 2ms/step - loss: 0.2714 - accuracy: 0.8730\n",
            "Epoch 70/100\n",
            "18/18 [==============================] - 0s 2ms/step - loss: 0.2647 - accuracy: 0.8696\n",
            "Epoch 71/100\n",
            "18/18 [==============================] - 0s 2ms/step - loss: 0.2701 - accuracy: 0.8748\n",
            "Epoch 72/100\n",
            "18/18 [==============================] - 0s 2ms/step - loss: 0.2693 - accuracy: 0.8800\n",
            "Epoch 73/100\n",
            "18/18 [==============================] - 0s 2ms/step - loss: 0.2604 - accuracy: 0.8835\n",
            "Epoch 74/100\n",
            "18/18 [==============================] - 0s 2ms/step - loss: 0.2645 - accuracy: 0.8783\n",
            "Epoch 75/100\n",
            "18/18 [==============================] - 0s 2ms/step - loss: 0.2605 - accuracy: 0.8904\n",
            "Epoch 76/100\n",
            "18/18 [==============================] - 0s 2ms/step - loss: 0.2668 - accuracy: 0.8817\n",
            "Epoch 77/100\n",
            "18/18 [==============================] - 0s 3ms/step - loss: 0.2642 - accuracy: 0.8887\n",
            "Epoch 78/100\n",
            "18/18 [==============================] - 0s 2ms/step - loss: 0.2692 - accuracy: 0.8817\n",
            "Epoch 79/100\n",
            "18/18 [==============================] - 0s 2ms/step - loss: 0.2782 - accuracy: 0.8713\n",
            "Epoch 80/100\n",
            "18/18 [==============================] - 0s 3ms/step - loss: 0.2711 - accuracy: 0.8713\n",
            "Epoch 81/100\n",
            "18/18 [==============================] - 0s 3ms/step - loss: 0.2583 - accuracy: 0.8835\n",
            "Epoch 82/100\n",
            "18/18 [==============================] - 0s 2ms/step - loss: 0.2541 - accuracy: 0.8800\n",
            "Epoch 83/100\n",
            "18/18 [==============================] - 0s 2ms/step - loss: 0.2547 - accuracy: 0.8835\n",
            "Epoch 84/100\n",
            "18/18 [==============================] - 0s 2ms/step - loss: 0.2568 - accuracy: 0.8800\n",
            "Epoch 85/100\n",
            "18/18 [==============================] - 0s 2ms/step - loss: 0.2545 - accuracy: 0.8817\n",
            "Epoch 86/100\n",
            "18/18 [==============================] - 0s 2ms/step - loss: 0.2661 - accuracy: 0.8730\n",
            "Epoch 87/100\n",
            "18/18 [==============================] - 0s 3ms/step - loss: 0.2709 - accuracy: 0.8800\n",
            "Epoch 88/100\n",
            "18/18 [==============================] - 0s 3ms/step - loss: 0.2582 - accuracy: 0.8835\n",
            "Epoch 89/100\n",
            "18/18 [==============================] - 0s 2ms/step - loss: 0.2525 - accuracy: 0.8887\n",
            "Epoch 90/100\n",
            "18/18 [==============================] - 0s 2ms/step - loss: 0.2610 - accuracy: 0.8904\n",
            "Epoch 91/100\n",
            "18/18 [==============================] - 0s 2ms/step - loss: 0.2557 - accuracy: 0.8783\n",
            "Epoch 92/100\n",
            "18/18 [==============================] - 0s 2ms/step - loss: 0.2630 - accuracy: 0.8748\n",
            "Epoch 93/100\n",
            "18/18 [==============================] - 0s 2ms/step - loss: 0.2643 - accuracy: 0.8852\n",
            "Epoch 94/100\n",
            "18/18 [==============================] - 0s 3ms/step - loss: 0.2561 - accuracy: 0.8765\n",
            "Epoch 95/100\n",
            "18/18 [==============================] - 0s 2ms/step - loss: 0.2663 - accuracy: 0.8783\n",
            "Epoch 96/100\n",
            "18/18 [==============================] - 0s 3ms/step - loss: 0.2577 - accuracy: 0.8800\n",
            "Epoch 97/100\n",
            "18/18 [==============================] - 0s 2ms/step - loss: 0.2679 - accuracy: 0.8748\n",
            "Epoch 98/100\n",
            "18/18 [==============================] - 0s 2ms/step - loss: 0.2560 - accuracy: 0.8800\n",
            "Epoch 99/100\n",
            "18/18 [==============================] - 0s 2ms/step - loss: 0.2518 - accuracy: 0.8852\n",
            "Epoch 100/100\n",
            "18/18 [==============================] - 0s 2ms/step - loss: 0.2528 - accuracy: 0.8835\n"
          ]
        }
      ]
    },
    {
      "cell_type": "markdown",
      "source": [
        "Test"
      ],
      "metadata": {
        "id": "vDmDNOlDQwyf"
      }
    },
    {
      "cell_type": "code",
      "source": [
        "predictions = model.predict(X_test)\n",
        "predictions = predictions >= 0.5\n",
        "from sklearn.metrics import classification_report\n",
        "print(classification_report(Y_test, predictions))\n",
        "\n",
        "from sklearn.metrics import confusion_matrix\n",
        "tn, fp, fn, tp = confusion_matrix(Y_test, predictions).ravel()\n",
        "specificity = tn / (tn+fp)\n",
        "print(\"specificity: \"+ str(specificity))"
      ],
      "metadata": {
        "colab": {
          "base_uri": "https://localhost:8080/"
        },
        "id": "YPGC1yB8Qxiy",
        "outputId": "db0d004c-73f9-4ce3-e0f4-ecfcb9bf822c"
      },
      "execution_count": 5,
      "outputs": [
        {
          "output_type": "stream",
          "name": "stdout",
          "text": [
            "              precision    recall  f1-score   support\n",
            "\n",
            "         0.0       0.98      0.91      0.95        47\n",
            "         1.0       0.80      0.94      0.86        17\n",
            "\n",
            "    accuracy                           0.92        64\n",
            "   macro avg       0.89      0.93      0.90        64\n",
            "weighted avg       0.93      0.92      0.92        64\n",
            "\n",
            "specificity: 0.9148936170212766\n"
          ]
        }
      ]
    },
    {
      "cell_type": "code",
      "source": [
        "converter = tf.lite.TFLiteConverter.from_keras_model(model)\n",
        "tflite_model = converter.convert()\n",
        "open(\"model.tflite\", \"wb\").write(tflite_model)\n",
        "import os\n",
        "basic_model_size = os.path.getsize(\"model.tflite\")\n",
        "print(\"Model is %d bytes\" % basic_model_size)\n",
        "!apt-get -qq install xxd\n",
        "!echo \"const unsigned char model[] = {\" > /content/model.h\n",
        "!cat model.tflite | xxd -i      >> /content/model.h\n",
        "!echo \"};\"                              >> /content/model.h\n",
        "\n",
        "import os\n",
        "model_h_size = os.path.getsize(\"model.h\")\n",
        "print(f\"Header file, model.h, is {model_h_size:,} bytes.\")\n",
        "print(\"\\nOpen the side panel (refresh if needed). Double click model.h to download the file.\")"
      ],
      "metadata": {
        "id": "pPPX8MDLxGzY",
        "colab": {
          "base_uri": "https://localhost:8080/"
        },
        "outputId": "67873dd7-2c10-4faf-c5e3-3555b6f10c9a"
      },
      "execution_count": 8,
      "outputs": [
        {
          "output_type": "stream",
          "name": "stdout",
          "text": [
            "INFO:tensorflow:Assets written to: /tmp/tmph93k63d_/assets\n"
          ]
        },
        {
          "output_type": "stream",
          "name": "stderr",
          "text": [
            "INFO:tensorflow:Assets written to: /tmp/tmph93k63d_/assets\n",
            "WARNING:absl:Buffer deduplication procedure will be skipped when flatbuffer library is not properly loaded\n"
          ]
        },
        {
          "output_type": "stream",
          "name": "stdout",
          "text": [
            "Model is 46640 bytes\n",
            "Header file, model.h, is 287,648 bytes.\n",
            "\n",
            "Open the side panel (refresh if needed). Double click model.h to download the file.\n"
          ]
        }
      ]
    },
    {
      "cell_type": "markdown",
      "source": [
        "# New Section"
      ],
      "metadata": {
        "id": "fXLUL4lpd7aw"
      }
    }
  ]
}